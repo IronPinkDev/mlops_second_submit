{
 "cells": [
  {
   "cell_type": "code",
   "execution_count": null,
   "id": "6edbcb74",
   "metadata": {},
   "outputs": [],
   "source": [
    "from sklearn.model_selection import train_test_split"
   ]
  },
  {
   "cell_type": "code",
   "execution_count": null,
   "id": "20c2089d",
   "metadata": {},
   "outputs": [],
   "source": [
    "# Balancear el dataset: seleccionar 222 registros aleatorios por grupo étnico\n",
    "df_balanced_gpa = df.groupby('Ethnicity', group_keys=False).apply(lambda x: x.sample(n=222, random_state=42)).reset_index(drop=True)\n",
    "\n",
    "# Eliminar columnas StudentID y GradeClass\n",
    "df_balanced_gpa = df_balanced_gpa.drop(['StudentID', 'GradeClass'], axis=1)\n",
    "\n",
    "# Definir características y variable objetivo\n",
    "X_gpa = df_balanced_gpa.drop('GPA', axis=1)\n",
    "y_gpa = df_balanced_gpa['GPA']\n",
    "\n",
    "# Separar en conjuntos de entrenamiento y prueba (80% train, 20% test)\n",
    "X_train_gpa, X_test_gpa, y_train_gpa, y_test_gpa = train_test_split(X_gpa, y_gpa, test_size=0.2, random_state=42)"
   ]
  },
  {
   "cell_type": "code",
   "execution_count": null,
   "id": "1b3f63a0",
   "metadata": {},
   "outputs": [],
   "source": [
    "print(\"X_train_gpa shape:\", X_train_gpa.shape)\n",
    "print(\"X_test_gpa shape:\", X_test_gpa.shape)\n",
    "print(\"y_train_gpa shape:\", y_train_gpa.shape)\n",
    "print(\"y_test_gpa shape:\", y_test_gpa.shape)"
   ]
  },
  {
   "cell_type": "code",
   "execution_count": null,
   "id": "57603424",
   "metadata": {},
   "outputs": [
    {
     "data": {
      "text/plain": [
       "['pipeline_regresion.joblib']"
      ]
     },
     "metadata": {},
     "output_type": "display_data"
    }
   ],
   "source": [
    "from sklearn.preprocessing import StandardScaler, OneHotEncoder\n",
    "from sklearn.compose import ColumnTransformer\n",
    "from sklearn.pipeline import Pipeline\n",
    "from sklearn.linear_model import Ridge\n",
    "import joblib\n",
    "\n",
    "# Definir columnas numéricas y categóricas\n",
    "numeric_features = ['Age', 'StudyTimeWeekly', 'Absences']\n",
    "categorical_features = ['Gender', 'Ethnicity', 'ParentalEducation', 'Tutoring', 'ParentalSupport', 'Extracurricular', 'Sports', 'Music', 'Volunteering']\n",
    "\n",
    "# Crear el preprocesador\n",
    "preprocessor = ColumnTransformer(\n",
    "    transformers=[\n",
    "        ('num', StandardScaler(), numeric_features),\n",
    "        ('cat', OneHotEncoder(handle_unknown='ignore'), categorical_features)\n",
    "    ]\n",
    ")\n",
    "\n",
    "# Crear el pipeline con preprocesamiento y regresión\n",
    "pipeline = Pipeline([\n",
    "    ('preprocessor', preprocessor),\n",
    "    ('reg', Ridge())\n",
    "])\n",
    "\n",
    "# Entrenar el pipeline\n",
    "pipeline.fit(X_train, y_train)\n",
    "\n",
    "# Guardar el pipeline entrenado\n",
    "joblib.dump(pipeline, 'pipeline_regresion.joblib')"
   ]
  },
  {
   "cell_type": "code",
   "execution_count": null,
   "id": "2b79da51",
   "metadata": {},
   "outputs": [],
   "source": [
    "from sklearn.preprocessing import StandardScaler, OneHotEncoder\n",
    "from sklearn.compose import ColumnTransformer\n",
    "from sklearn.pipeline import Pipeline\n",
    "from sklearn.linear_model import Ridge\n",
    "import joblib\n",
    "\n",
    "# Definir columnas numéricas y categóricas\n",
    "numeric_features = ['Age', 'StudyTimeWeekly', 'Absences']\n",
    "categorical_features = ['Gender', 'Ethnicity', 'ParentalEducation', 'Tutoring', 'ParentalSupport', 'Extracurricular', 'Sports', 'Music', 'Volunteering']\n",
    "\n",
    "# Definir categorías posibles para cada variable categórica\n",
    "categorical_values = [\n",
    "    [0, 1],                # Gender\n",
    "    [0, 1, 2, 3],          # Ethnicity\n",
    "    [0, 1, 2, 3, 4],       # ParentalEducation\n",
    "    [0, 1],                # Tutoring\n",
    "    [0, 1, 2, 3, 4],       # ParentalSupport\n",
    "    [0, 1],                # Extracurricular\n",
    "    [0, 1],                # Sports\n",
    "    [0, 1],                # Music\n",
    "    [0, 1]                 # Volunteering\n",
    "]\n",
    "\n",
    "# Crear el preprocesador con categorías fijas\n",
    "preprocessor = ColumnTransformer(\n",
    "    transformers=[\n",
    "        ('num', StandardScaler(), numeric_features),\n",
    "        ('cat', OneHotEncoder(categories=categorical_values, handle_unknown='ignore'), categorical_features)\n",
    "    ]\n",
    ")\n",
    "\n",
    "# Crear el pipeline con preprocesamiento y regresión\n",
    "pipeline = Pipeline([\n",
    "    ('preprocessor', preprocessor),\n",
    "    ('reg', Ridge())\n",
    "])\n",
    "\n",
    "# Entrenar el pipeline\n",
    "pipeline.fit(X_train, y_train)\n",
    "\n",
    "# Guardar el pipeline entrenado\n",
    "joblib.dump(pipeline, 'pipeline_regresion.joblib')"
   ]
  },
  {
   "cell_type": "code",
   "execution_count": null,
   "id": "a6740cf7",
   "metadata": {},
   "outputs": [],
   "source": [
    "# Seleccionar dos registros aleatorios del conjunto X_test\n",
    "muestra_aleatoria = X_test.sample(n=2, random_state=123)\n",
    "print(\"Registros seleccionados:\\n\", muestra_aleatoria)\n",
    "\n",
    "# Realizar la predicción con el pipeline cargado\n",
    "predicciones_aleatorias = pipeline.predict(muestra_aleatoria)\n",
    "print(\"Predicciones de GPA para los dos registros aleatorios:\", predicciones_aleatorias)"
   ]
  }
 ],
 "metadata": {
  "language_info": {
   "name": "python"
  }
 },
 "nbformat": 4,
 "nbformat_minor": 5
}
